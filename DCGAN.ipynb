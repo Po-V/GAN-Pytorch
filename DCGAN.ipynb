{
 "cells": [
  {
   "cell_type": "code",
   "execution_count": 23,
   "id": "65a201c0",
   "metadata": {},
   "outputs": [],
   "source": [
    "import torch\n",
    "from torch import nn\n",
    "from torchvision import transforms\n",
    "from torchvision.datasets import FashionMNIST\n",
    "from torchvision.utils import make_grid\n",
    "from torch.utils.data import DataLoader\n",
    "import matplotlib.pyplot as plt"
   ]
  },
  {
   "cell_type": "code",
   "execution_count": 24,
   "id": "707f028e",
   "metadata": {},
   "outputs": [],
   "source": [
    "class Generator(nn.Module):\n",
    "    def __init__(self, z_dim = 10, img_channels = 1, hidden_dim = 64):\n",
    "        super(Generator, self).__init__()\n",
    "        self.gen = nn.Sequential(\n",
    "            self.gen_block(z_dim, hidden_dim * 16, 4, 1, 0),\n",
    "            self.gen_block(hidden_dim * 16, hidden_dim * 8, 4, 2, 1),\n",
    "            self.gen_block(hidden_dim * 8, hidden_dim * 4, 4,  2, 1),\n",
    "            self.gen_block(hidden_dim * 4, hidden_dim * 2, 4, 2, 1),\n",
    "            nn.ConvTranspose2d(hidden_dim * 2, 1, kernel_size = 4, stride = 2, padding = 1),\n",
    "            nn.Tanh()\n",
    "        )\n",
    "        \n",
    "    def gen_block(self, input_channels, output_channels, kernel_size, stride, padding):\n",
    "        return nn.Sequential(\n",
    "            nn.ConvTranspose2d(input_channels, output_channels, kernel_size, stride, padding, bias = False),\n",
    "            nn.BatchNorm2d(output_channels),\n",
    "            nn.ReLU()\n",
    "        )\n",
    "    \n",
    "    def forward(self, noise):\n",
    "        return self.gen(noise)\n",
    "    "
   ]
  },
  {
   "cell_type": "code",
   "execution_count": 25,
   "id": "27db991e",
   "metadata": {},
   "outputs": [],
   "source": [
    "def get_noise(n_samples, z_dim):\n",
    "    return torch.randn(n_samples, z_dim, 1, 1).to('cuda')"
   ]
  },
  {
   "cell_type": "code",
   "execution_count": 26,
   "id": "f87ce728",
   "metadata": {},
   "outputs": [],
   "source": [
    "class Discriminator(nn.Module):\n",
    "    def __init__(self, img_channels, hidden_dim = 64):\n",
    "        super(Discriminator, self).__init__()\n",
    "        self.disc = nn.Sequential(\n",
    "            nn.Conv2d(img_channels, hidden_dim, kernel_size = 4, stride = 2, padding = 1),\n",
    "            nn.LeakyReLU(0.2),\n",
    "            self.disc_block(hidden_dim, hidden_dim * 2, 4, 2, 1),\n",
    "            self.disc_block(hidden_dim * 2, hidden_dim * 4, 4, 2, 1),\n",
    "            self.disc_block(hidden_dim * 4, hidden_dim * 8, 4, 2, 1), # 4x4\n",
    "            nn.Conv2d(hidden_dim * 8, 1, kernel_size = 4, stride = 2, padding = 0), # 1x1\n",
    "            nn.Sigmoid()\n",
    "        )\n",
    "    \n",
    "    def disc_block(self, input_channels, output_channels, kernel_size, stride, padding):\n",
    "        return nn.Sequential(\n",
    "            nn.Conv2d(input_channels, output_channels, kernel_size, stride, padding, bias = False),\n",
    "            nn.BatchNorm2d(output_channels),\n",
    "            nn.LeakyReLU(0.2)\n",
    "        )\n",
    "    \n",
    "    def forward(self, img):\n",
    "        return self.disc(img)"
   ]
  },
  {
   "cell_type": "code",
   "execution_count": 27,
   "id": "2e432907",
   "metadata": {},
   "outputs": [],
   "source": [
    "def init_weights(m):\n",
    "    if isinstance(m, nn.Conv2d) or isinstance(m, nn.ConvTranspose2d):\n",
    "        torch.nn.init.normal_(m.weight, 0.0, 0.02)\n",
    "    if isinstance(m, nn.BatchNorm2d):\n",
    "        torch.nn.init.normal_(m.weight, 0.0, 0.02)\n",
    "        torch.nn.init.constant_(m.bias, 0)"
   ]
  },
  {
   "cell_type": "code",
   "execution_count": 28,
   "id": "8a80073e",
   "metadata": {},
   "outputs": [],
   "source": [
    "criterion = nn.BCEWithLogitsLoss()\n",
    "z_dim = 100\n",
    "batch_size = 128\n",
    "lr = 0.0002\n",
    "beta_1 = 0.5\n",
    "beta_2 = 0.999\n",
    "device = 'cuda'\n",
    "transform = transforms.Compose([\n",
    "    transforms.Resize(64),\n",
    "    transforms.ToTensor(),\n",
    "    transforms.Normalize((0.5,), (0.5,)),\n",
    "])\n",
    "\n",
    "dataloader = DataLoader(\n",
    "    FashionMNIST('.', download = False, transform = transform),\n",
    "    batch_size = batch_size,\n",
    "    shuffle = True\n",
    ")"
   ]
  },
  {
   "cell_type": "code",
   "execution_count": 29,
   "id": "149d1bc8",
   "metadata": {},
   "outputs": [],
   "source": [
    "gen = Generator(z_dim, 1, 64).to(device)\n",
    "init_weights(gen)\n",
    "gen_opt = torch.optim.Adam(gen.parameters(), lr = lr, betas = (beta_1, beta_2))\n",
    "\n",
    "disc = Discriminator(1, 64).to(device)\n",
    "init_weights(disc)\n",
    "disc_opt = torch.optim.Adam(disc.parameters(), lr = lr, betas = (beta_1, beta_2))"
   ]
  },
  {
   "cell_type": "code",
   "execution_count": null,
   "id": "ab8d9984",
   "metadata": {},
   "outputs": [],
   "source": [
    "def show_tensor_images(im):\n",
    "    image_tensor = (im + 1) / 2 # unnormalize images\n",
    "    \n",
    "    "
   ]
  },
  {
   "cell_type": "code",
   "execution_count": 31,
   "id": "0cb59dc1",
   "metadata": {},
   "outputs": [
    {
     "name": "stdout",
     "output_type": "stream",
     "text": [
      "Step 500: Generator loss: 0.6945296313762679, discriminator loss: 0.5042146071195603\n",
      "Step 1000: Generator loss: 0.693145994305615, discriminator loss: 0.5032055307626727\n",
      "Step 1500: Generator loss: 0.6931467665433926, discriminator loss: 0.5032048879861822\n",
      "Step 2000: Generator loss: 0.6931469439268133, discriminator loss: 0.5032046910524366\n",
      "Step 2500: Generator loss: 0.6931470544338226, discriminator loss: 0.5032046095132799\n",
      "Step 3000: Generator loss: 0.6931470632553101, discriminator loss: 0.50320456576347\n",
      "Step 3500: Generator loss: 0.6931470632553101, discriminator loss: 0.5032045435905427\n",
      "Step 4000: Generator loss: 0.6931470576524735, discriminator loss: 0.503204541802404\n",
      "Step 4500: Generator loss: 0.6931470503807104, discriminator loss: 0.5032045313119884\n"
     ]
    }
   ],
   "source": [
    "n_epochs = 10\n",
    "step = 0\n",
    "mean_generator_loss = 0\n",
    "mean_discriminator_loss = 0\n",
    "display_step = 500\n",
    "\n",
    "for epoch in range(n_epochs):\n",
    "    for real, _ in(dataloader):\n",
    "        real = real.to(device)\n",
    "        \n",
    "        disc_opt.zero_grad()\n",
    "        fake_noise = get_noise(batch_size, z_dim)\n",
    "        fake_img = gen(fake_noise)\n",
    "        disc_preds_fake = disc(fake_img.detach()).reshape(-1)\n",
    "        disc_fake_loss = criterion(disc_preds_fake, torch.zeros_like(disc_preds_fake))\n",
    "        disc_preds_real = disc(real).reshape(-1)\n",
    "        disc_real_loss = criterion(disc_preds_real, torch.ones_like(disc_preds_real))\n",
    "        disc_loss = (disc_fake_loss + disc_real_loss) / 2\n",
    "        \n",
    "        mean_discriminator_loss += disc_loss.item() / display_step # item() returns the value of tensor as a single python number\n",
    "        disc_loss.backward(retain_graph = True)\n",
    "        disc_opt.step()\n",
    "        \n",
    "        gen_opt.zero_grad()\n",
    "        fake_noise_2 = get_noise(batch_size, z_dim)\n",
    "        fake_img_2 = gen(fake_noise_2)\n",
    "        disc_preds_fake = disc(fake_img_2).reshape(-1)\n",
    "        gen_loss = criterion(disc_preds_fake, torch.ones_like(disc_preds_fake))\n",
    "        gen_loss.backward()\n",
    "        gen_opt.step()\n",
    "        \n",
    "        mean_generator_loss += gen_loss.item() / display_step\n",
    "        \n",
    "        if step % display_step == 0 and step > 0:\n",
    "            print(f\"Step {step}: Generator loss: {mean_generator_loss}, discriminator loss: {mean_discriminator_loss}\")\n",
    "#             show_tensor_images(fake)\n",
    "#             show_tensor_images(real)\n",
    "            mean_generator_loss = 0\n",
    "            mean_discriminator_loss = 0\n",
    "        step += 1\n",
    "        "
   ]
  },
  {
   "cell_type": "code",
   "execution_count": null,
   "id": "03396b80",
   "metadata": {},
   "outputs": [],
   "source": []
  },
  {
   "cell_type": "code",
   "execution_count": null,
   "id": "8adfaaa2",
   "metadata": {},
   "outputs": [],
   "source": []
  }
 ],
 "metadata": {
  "kernelspec": {
   "display_name": "Python 3",
   "language": "python",
   "name": "python3"
  },
  "language_info": {
   "codemirror_mode": {
    "name": "ipython",
    "version": 3
   },
   "file_extension": ".py",
   "mimetype": "text/x-python",
   "name": "python",
   "nbconvert_exporter": "python",
   "pygments_lexer": "ipython3",
   "version": "3.8.5"
  }
 },
 "nbformat": 4,
 "nbformat_minor": 5
}
